{
 "cells": [
  {
   "cell_type": "code",
   "execution_count": 2,
   "metadata": {},
   "outputs": [],
   "source": [
    "# import brian2 as b2\n",
    "import numpy as np\n",
    "import matplotlib.pyplot as plt\n",
    "from scipy.io import loadmat\n",
    "# from neurodynex.leaky_integrate_and_fire import LIF\n",
    "# from neurodynex.tools import input_factory, plot_tools\n",
    "\n",
    "default_pars = {'V_th': -55.0, 'V_reset': -75.0, 'tau_m': 10.0,\n",
    "                'g_L': 10.0, 'V_init': -75.0, 'E_L': -75.0, 'tref': 2.0,\n",
    "                'T': 400.0, 'dt': 0.1,\n",
    "                'range_t': np.arange(2000)}\n",
    "\n",
    "\n",
    "\n",
    "def get_noisy_current_OU( t_end, unit_time, I_stim0, I_avg, tau_n = 10, sig_noise = 10, myseed=8):\n",
    "\n",
    "    \"\"\"Creates a noise injection using Ornstein-Uhlenbeck (OU) process.\n",
    "    Args:\n",
    "        t_end (int): end of the step in ms\n",
    "        unit_time (Brian2 unit): unit of t_start and t_end. e.g. 0.1*brian2.ms\n",
    "        I_stim0 (int): inital value for the injected current\n",
    "        unit (Quantity): unit of the current usially uA\n",
    "        tau_n (Quantity): noise time constant\n",
    "        sig_noise (Quantity): standard deviation of noise \n",
    "\n",
    "    Returns:\n",
    "        TimedArray: Brian2.TimedArray\n",
    "    \"\"\"\n",
    "\n",
    "\n",
    "    # Retrieve simulation parameters\n",
    "    dt = 1. * unit_time\n",
    "    Lt =  t_end\n",
    "\n",
    "    # Set random seed\n",
    "    if myseed:\n",
    "        np.random.seed(seed=myseed)\n",
    "    else:\n",
    "        np.random.seed()\n",
    "\n",
    "    # Generate GWN\n",
    "    # we divide here by 1000 to convert units to sec.\n",
    "    I_gwn = np.zeros((int(Lt/dt),1))\n",
    "\n",
    "\n",
    "    I_stim = np.zeros((int(t_end/dt)))\n",
    "    I_stim[0] = I_stim0\n",
    " \n",
    "    for t_ in range(1,int(t_end/dt)):\n",
    "        I_stim[t_]=I_avg+((I_avg-I_stim[t_-1])/tau_n)+sig_noise*np.random.normal(0,1)\n",
    "    \n",
    "    I_gwn[:,0] = I_stim\n",
    "\n",
    "    tmp = I_gwn\n",
    "    curr = tmp #TimedArray(tmp, dt=1. * unit_time)\n",
    "    return curr\n",
    "\n",
    "default_pars = {'V_th': -55.0, 'V_reset': -75.0, 'tau_m': 10.0,\n",
    "                'g_L': 10.0, 'V_init': -75.0, 'E_L': -75.0, 'tref': 2.0,\n",
    "                'T': 500.0, 'dt': 0.1,\n",
    "                'range_t': np.arange(5000)}\n",
    "\n",
    "def run_LIF(pars,  stop=False):\n",
    "    \"\"\"\n",
    "    Simulate the LIF dynamics with external input current\n",
    "\n",
    "    Args:\n",
    "    pars       : parameter dictionary\n",
    "    Iinj       : input current [pA]. The injected current here can be a value\n",
    "                    or an array\n",
    "    stop       : boolean. If True, use a current pulse\n",
    "\n",
    "    Returns:\n",
    "    rec_v      : membrane potential\n",
    "    rec_sp     : spike times\n",
    "    \"\"\"\n",
    "\n",
    "    # Set parameters\n",
    "    V_th, V_reset = pars['V_th'], pars['V_reset']\n",
    "    tau_m, g_L = pars['tau_m'], pars['g_L']\n",
    "    V_init, E_L = pars['V_init'], pars['E_L']\n",
    "    dt, range_t = pars['dt'], pars['range_t']\n",
    "    T = pars['T']\n",
    "    print(T)\n",
    "    Lt = range_t.size\n",
    "    tref = pars['tref']\n",
    "    # Initialize voltage\n",
    "    v = np.zeros(Lt)\n",
    "    v[0] = V_init\n",
    "\n",
    "\n",
    "    Iinj = get_noisy_current_OU(int(T), dt,300,280,)\n",
    "    rec_spikes = []  # record spike times\n",
    "    tr = 0.  # the count for refractory duration\n",
    "\n",
    "    for it in range(Lt - 1):\n",
    "\n",
    "        if tr > 0:  # check if in refractory period\n",
    "            v[it] = V_reset  # set voltage to reset\n",
    "            tr = tr - 1 # reduce running counter of refractory period\n",
    "\n",
    "        elif v[it] >= V_th:  # if voltage over threshold\n",
    "            rec_spikes.append(it)  # record spike event\n",
    "            v[it] = V_reset  # reset voltage\n",
    "            tr = tref / dt  # set refractory time\n",
    "\n",
    "        # Calculate the increment of the membrane potential\n",
    "        dv = (-(v[it]-E_L)+Iinj[it]/g_L)* (dt / tau_m)\n",
    "\n",
    "        # Update the membrane potential\n",
    "        v[it + 1] = v[it]+dv\n",
    "\n",
    "        # Get spike times in ms\n",
    "        rec_spikes_ = np.array(rec_spikes) * dt\n",
    "\n",
    "    return v, rec_spikes_,Iinj\n",
    "# spikes_t_s_u = []\n",
    "\n",
    "\n",
    "# v,spikes,I =run_LIF(default_pars,)\n",
    "# plt.plot(v)\n",
    "# plt.scatter(np.array(spikes/0.1-0.01,dtype=np.int32),v[np.array(spikes/0.1-0.01,dtype=np.int32)])\n",
    "# plt.show()\n",
    "# plt.plot(I)\n",
    "# plt.show()"
   ]
  },
  {
   "cell_type": "code",
   "execution_count": null,
   "metadata": {},
   "outputs": [],
   "source": []
  },
  {
   "cell_type": "code",
   "execution_count": 3,
   "metadata": {},
   "outputs": [],
   "source": [
    "spikesmat_tsr = loadmat(\"C:/Users/Nishant Joshi/Documents/Mariam/spikes_tsr.mat\")\n",
    "spikesmat_tsu = loadmat(\"C:/Users/Nishant Joshi/Documents/Mariam/spikes_tsu.mat\")\n"
   ]
  },
  {
   "cell_type": "code",
   "execution_count": 6,
   "metadata": {},
   "outputs": [
    {
     "name": "stdout",
     "output_type": "stream",
     "text": [
      "(1, 554)\n",
      "(1, 520)\n"
     ]
    }
   ],
   "source": [
    "print(np.shape(spikesmat_tsu['t_s_u'][0][0][0][0]))\n",
    "print(np.shape(spikesmat_tsr['t_s_r'][0][0][0][0]))\n"
   ]
  },
  {
   "cell_type": "code",
   "execution_count": 7,
   "metadata": {},
   "outputs": [],
   "source": [
    "test_spike_t_s_u = np.array(spikesmat_tsu['t_s_u'])[0][0][:10]\n",
    "test_spike_t_s_r = np.array(spikesmat_tsr['t_s_r'])[0][0][:10]\n"
   ]
  },
  {
   "cell_type": "code",
   "execution_count": 40,
   "metadata": {},
   "outputs": [
    {
     "name": "stdout",
     "output_type": "stream",
     "text": [
      "[[500. 499.]\n",
      " [501. 500.]]\n"
     ]
    }
   ],
   "source": [
    "s1 = np.repeat(np.expand_dims(np.array([1,2]),axis=0).T,2,axis=1)\n",
    "s2 = np.repeat(np.expand_dims(np.array([1,2]),axis=1).T,2,axis=0)\n",
    "print(s1-s2+10/(2*(0.1**2)))\n"
   ]
  },
  {
   "cell_type": "code",
   "execution_count": 8,
   "metadata": {},
   "outputs": [],
   "source": [
    "import numba\n",
    "\n",
    "numba.jit(nopython=True)\n",
    "\n",
    "def auto_corr(plot_taus,sigma,t_s):\n",
    "    Ntr = np.shape(t_s)[1]\n",
    "    print(t_s.shape)\n",
    "    # auto_corr = np.zeros((len(plot_taus),1))\n",
    "    auto_corr = []\n",
    "    for k in range(Ntr):\n",
    "        auto_corr_temp = []\n",
    "        ST1= t_s[0][k][0]\n",
    "\n",
    "        N = len(ST1)\n",
    "\n",
    "        s1 = np.repeat(np.expand_dims(ST1.T,axis=0).T,N,axis=1)\n",
    "        s2 = np.repeat(np.expand_dims(ST1,axis=1).T,N,axis=0)\n",
    "        for i in range(len(plot_taus)):\n",
    "            tau = plot_taus[i]\n",
    "            cons_a = np.exp(-((s1-s2+tau)**2)/(2*(sigma**2)))\n",
    "            cons_b = np.exp(-(tau)**2/(2*(sigma**2)))\n",
    "            auto_corr_temp.append((np.sum(cons_a)-N*cons_b)/(np.sqrt(2*np.pi)*sigma))\n",
    "        auto_corr.append(auto_corr_temp)\n",
    "    auto_corr=np.mean(auto_corr,axis=0)\n",
    "    return auto_corr"
   ]
  },
  {
   "cell_type": "code",
   "execution_count": 70,
   "metadata": {},
   "outputs": [],
   "source": [
    "numba.jit(nopython=True)\n",
    "\n",
    "def cross_corr(plot_taus,sigma,t_s):\n",
    "    \n",
    "    Ntr =np.shape(t_s)[1]\n",
    "    cross_corr = np.zeros((len(plot_taus),1))\n",
    "    t_s1 = t_s[0]\n",
    "    t_s2 = t_s[0][1:]\n",
    "    for k in range(Ntr-1):\n",
    "        ST1 = t_s1[k][0]\n",
    "        ST2 = t_s2[k][0]\n",
    "        l1 = len(ST1)\n",
    "        l2 = len(ST2)\n",
    "        sig1 = np.expand_dims(ST1,axis=0)\n",
    "        sig2 = np.expand_dims(ST2,axis=0)\n",
    "        s1 = np.repeat(sig1.T,l2,axis=1)\n",
    "        s2 = np.repeat(sig2,l1,axis=0)\n",
    "\n",
    "        for i in range(len(plot_taus)):\n",
    "            tau = plot_taus[i]\n",
    "            cons = np.exp(-(s1-s2+tau)**2/(2*sigma**2))\n",
    "            cross_corr[i] +=np.sum(cons)/(np.sqrt(2*np.pi)*sigma)\n",
    "\n",
    "        print(np.shape(cross_corr))\n",
    "    cross_corr=cross_corr/(Ntr-1)\n",
    "    return cross_corr\n"
   ]
  },
  {
   "cell_type": "code",
   "execution_count": 117,
   "metadata": {},
   "outputs": [],
   "source": [
    "from scipy.fft import fft, fftfreq,rfft\n",
    "\n",
    "def My_DFT_custom_freqs(t,x,freqs):\n",
    "    # %MY_DFT Gives the discrete fouriertransform for an input of a time vector t\n",
    "    # % and the function x that will be fouriertransformed. \n",
    "    # %   Also we could introduce a custom freqs vector in the future to\n",
    "    # %   customize the frequency resolution.\n",
    "    print(x.shape)\n",
    "    f_coefs = np.zeros((1,len(freqs)))\n",
    "    \n",
    "    \n",
    "    T_seq = np.max(t) - np.min(t)\n",
    "    for k in range(f_coefs.shape[1]):\n",
    "        # print(np.exp(-1j*2*np.pi*freqs[k]*t[:-1]))\n",
    "        f_coefs[0,k] = np.real(np.mean(x[0,:-1]*(np.exp(-1j*2*np.pi*freqs[k]*t[:-1]))))\n",
    "    \n",
    "    return f_coefs"
   ]
  },
  {
   "cell_type": "code",
   "execution_count": 138,
   "metadata": {},
   "outputs": [
    {
     "data": {
      "image/png": "[encoded data removed]",
      "text/plain": [
       "<Figure size 1008x432 with 1 Axes>"
      ]
     },
     "metadata": {
      "needs_background": "light"
     },
     "output_type": "display_data"
    },
    {
     "data": {
      "image/png": "[encoded data removed]",
      "text/plain": [
       "<Figure size 1008x432 with 1 Axes>"
      ]
     },
     "metadata": {
      "needs_background": "light"
     },
     "output_type": "display_data"
    }
   ],
   "source": [
    "spikes_t = test_spike_t_s_r[:10]\n",
    "# print(np.shape(spikes_t[i][0][0]))\n",
    "fig,ax = plt.subplots(figsize= [14,6])\n",
    "for i in range(10):\n",
    "    b_spikes = np.zeros((np.int32(10000/0.1)))*np.nan\n",
    "    s_times = np.int32(spikes_t[i][0][0]/0.1)\n",
    "    b_spikes[s_times]=1\n",
    "    plt.scatter(np.arange(np.int32(10000/0.1)),b_spikes*i,marker='|')\n",
    "plt.show()\n",
    "\n",
    "spikes_t = test_spike_t_s_u[:10]\n",
    "# print(np.shape(spikes_t[i][0][0]))\n",
    "fig,ax = plt.subplots(figsize= [14,6])\n",
    "for i in range(10):\n",
    "    b_spikes = np.zeros((np.int32(10000/0.1)))*np.nan\n",
    "    s_times = np.int32(spikes_t[i][0][0]/0.1)\n",
    "    b_spikes[s_times]=1\n",
    "    plt.scatter(np.arange(np.int32(10000/0.1)),b_spikes*i,marker='|')\n",
    "plt.show()"
   ]
  },
  {
   "cell_type": "code",
   "execution_count": 71,
   "metadata": {},
   "outputs": [
    {
     "name": "stdout",
     "output_type": "stream",
     "text": [
      "(2000, 1)\n",
      "(2000, 1)\n",
      "(2000, 1)\n",
      "(2000, 1)\n",
      "(2000, 1)\n",
      "(2000, 1)\n",
      "(2000, 1)\n",
      "(2000, 1)\n",
      "(2000, 1)\n"
     ]
    }
   ],
   "source": [
    "num_tau_min  = -100  #% (ms)\n",
    "num_tau_max =  100  #% (ms)\n",
    "num_dtau    =  0.1  #% (ms)\n",
    "\n",
    "                  \n",
    "num_taus = np.arange(num_tau_min,num_tau_max,num_dtau)\n",
    "\n",
    "sigma = 0.01\n",
    "# autocor_num_u = auto_corr(num_taus,sigma,test_spike_t_s_u[:10].T)  # what is sigma? standard deviation\n",
    "crosscorr_num_r  = cross_corr(num_taus, sigma, test_spike_t_s_r[:10].T) "
   ]
  },
  {
   "cell_type": "code",
   "execution_count": 15,
   "metadata": {},
   "outputs": [
    {
     "data": {
      "text/plain": [
       "[<matplotlib.lines.Line2D at 0x1a0041f8d90>]"
      ]
     },
     "execution_count": 15,
     "metadata": {},
     "output_type": "execute_result"
    },
    {
     "data": {
      "image/png": "[encoded data removed]",
      "text/plain": [
       "<Figure size 432x288 with 1 Axes>"
      ]
     },
     "metadata": {
      "needs_background": "light"
     },
     "output_type": "display_data"
    }
   ],
   "source": [
    "plt.plot(crosscorr_num_r)"
   ]
  },
  {
   "cell_type": "code",
   "execution_count": 16,
   "metadata": {},
   "outputs": [
    {
     "data": {
      "text/plain": [
       "[<matplotlib.lines.Line2D at 0x1a00428baf0>]"
      ]
     },
     "execution_count": 16,
     "metadata": {},
     "output_type": "execute_result"
    },
    {
     "data": {
      "image/png": "[encoded data removed]",
      "text/plain": [
       "<Figure size 432x288 with 1 Axes>"
      ]
     },
     "metadata": {
      "needs_background": "light"
     },
     "output_type": "display_data"
    }
   ],
   "source": [
    "plt.plot(num_taus,autocor_num_u)"
   ]
  },
  {
   "cell_type": "code",
   "execution_count": 44,
   "metadata": {},
   "outputs": [
    {
     "data": {
      "text/plain": [
       "(2000, 1)"
      ]
     },
     "execution_count": 44,
     "metadata": {},
     "output_type": "execute_result"
    }
   ],
   "source": [
    "np.expand_dims(autocor_num_u,axis=1).shape"
   ]
  },
  {
   "cell_type": "code",
   "execution_count": 118,
   "metadata": {},
   "outputs": [
    {
     "name": "stdout",
     "output_type": "stream",
     "text": [
      "(1, 2000)\n",
      "(1, 2000)\n"
     ]
    }
   ],
   "source": [
    "freq_max = 500 # Max frequency to evaluate (Hz)\n",
    "\n",
    "delta_f = 1 \n",
    "\n",
    "# Assigning vectors\n",
    "freqs = np.arange(0,freq_max+delta_f, delta_f) #;\n",
    "\n",
    "#number of frequencies\n",
    "Nf = len(freqs)\n",
    "\n",
    "num_delta_f = 1/(num_tau_max-num_tau_min)*1000\n",
    "num_freqs   = np.arange(0,(1/num_dtau*1000/2)+num_delta_f, num_delta_f)/1000\n",
    "steps = 10000\n",
    "dt = 0.1\n",
    "T_seq_korrigiert = steps*dt\n",
    "N = 1\n",
    "Ntr = 10\n",
    "FiR_u = np.zeros((1,Ntr))\n",
    "FiR_r = np.zeros((1,Ntr))\n",
    "\n",
    "\n",
    "for j  in range(Ntr):\n",
    "   FiR_u[0,j] = len(test_spike_t_s_u.T[0,j][0])/T_seq_korrigiert\n",
    "   FiR_r[0,j] = len(test_spike_t_s_r.T[0,j][0])/T_seq_korrigiert\n",
    "\n",
    "FiR_u_mean = np.mean(FiR_u)\n",
    "FiR_r_mean = np.mean(FiR_r)\n",
    "# % Fouriertranformations\n",
    "\n",
    "Off_Fac_num_u = 1/(num_tau_max-num_tau_min)*FiR_u_mean*T_seq_korrigiert\n",
    "\n",
    "# %  Numeric functions\n",
    "auto_four_u_temp   = np.real(My_DFT_custom_freqs(num_taus, np.expand_dims(autocor_num_u,axis=1).T, num_freqs))\n",
    "auto_four_u  = np.real(auto_four_u_temp)\n",
    "\n",
    "cross_four_r_temp  = np.real(My_DFT_custom_freqs(num_taus, crosscorr_num_r.T, num_freqs))\n",
    "cross_four_r = np.real(cross_four_r_temp)\n",
    "\n",
    "Info_pn_cor2  = -1/2*np.log2(1-(cross_four_r/(auto_four_u+Off_Fac_num_u))) \n",
    "\n",
    "\n",
    "Total_info_rate = np.sum(Info_pn_cor2) * delta_f"
   ]
  },
  {
   "cell_type": "code",
   "execution_count": 126,
   "metadata": {},
   "outputs": [
    {
     "data": {
      "text/plain": [
       "array([[25.74465402,  1.84241018,  1.92207077, ...,  0.03679845,\n",
       "         0.18843736,  0.48505552]])"
      ]
     },
     "execution_count": 126,
     "metadata": {},
     "output_type": "execute_result"
    }
   ],
   "source": [
    "\n",
    "cross_four_r\n"
   ]
  },
  {
   "cell_type": "code",
   "execution_count": 73,
   "metadata": {},
   "outputs": [
    {
     "data": {
      "text/plain": [
       "[<matplotlib.lines.Line2D at 0x1a00a8a0fd0>]"
      ]
     },
     "execution_count": 73,
     "metadata": {},
     "output_type": "execute_result"
    },
    {
     "data": {
      "image/png": "[encoded data removed]",
      "text/plain": [
       "<Figure size 432x288 with 1 Axes>"
      ]
     },
     "metadata": {
      "needs_background": "light"
     },
     "output_type": "display_data"
    }
   ],
   "source": [
    "plt.plot(Info_pn_cor2.T)"
   ]
  },
  {
   "cell_type": "code",
   "execution_count": 75,
   "metadata": {},
   "outputs": [
    {
     "data": {
      "text/plain": [
       "0.4949"
      ]
     },
     "execution_count": 75,
     "metadata": {},
     "output_type": "execute_result"
    }
   ],
   "source": [
    "FiR_r_mean"
   ]
  }
 ],
 "metadata": {
  "kernelspec": {
   "display_name": "base",
   "language": "python",
   "name": "python3"
  },
  "language_info": {
   "codemirror_mode": {
    "name": "ipython",
    "version": 3
   },
   "file_extension": ".py",
   "mimetype": "text/x-python",
   "name": "python",
   "nbconvert_exporter": "python",
   "pygments_lexer": "ipython3",
   "version": "3.8.8"
  }
 },
 "nbformat": 4,
 "nbformat_minor": 2
}
