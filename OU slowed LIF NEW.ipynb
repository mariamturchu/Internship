{
 "cells": [
  {
   "cell_type": "code",
   "execution_count": null,
   "metadata": {},
   "outputs": [],
   "source": [
    "import brian2 as b2\n",
    "import numpy as np\n",
    "import matplotlib.pyplot as plt\n",
    "from brian2 import *\n",
    "import numba\n"
   ]
  },
  {
   "cell_type": "code",
   "execution_count": 341,
   "metadata": {},
   "outputs": [],
   "source": [
    "default_pars = {'V_th': 0.0279, 'V_reset': -0.0279, 'tau_m': 5.0,\n",
    "                'g_L': 1.0, 'V_init': 0, 'E_L': 0.0, 'tref': 2.0,\n",
    "                'T': 10000.0, 'dt': 0.1, 'tau_ou' : 3., 'range_t': np.arange(2000),'seed':0}\n",
    "default_pars['range_t'] = np.arange(int(default_pars['T']/default_pars['dt']))\n"
   ]
  },
  {
   "cell_type": "code",
   "execution_count": 62,
   "metadata": {},
   "outputs": [],
   "source": [
    "# Definition of the Ornstein-Uhlenbeck input function\n",
    "def my_OU(pars, mu, sig, myseed=False):\n",
    "  \"\"\"\n",
    "  Function that produces Ornstein-Uhlenbeck input\n",
    "\n",
    "  Args:\n",
    "    pars       : parameter dictionary\n",
    "    sig        : noise amplitute\n",
    "    myseed     : random seed. int or boolean\n",
    "\n",
    "  Returns:\n",
    "    I_ou       : Ornstein-Uhlenbeck input current\n",
    "  \"\"\"\n",
    "\n",
    "  # Retrieve simulation parameters\n",
    "  dt, range_t = pars['dt'], pars['range_t']\n",
    "  Lt = range_t.size\n",
    "  tau_ou = pars['tau_ou']  # [ms]\n",
    "\n",
    "  # set random seed\n",
    "  if myseed:\n",
    "    np.random.seed(seed=myseed)\n",
    "  else:\n",
    "    np.random.seed()\n",
    "\n",
    "  # Initialize\n",
    "  noise = np.random.randn(Lt)\n",
    "  I_ou = np.zeros(Lt)\n",
    "  I_ou[0] = noise[0] * sig\n",
    "\n",
    "  # generate OU\n",
    "  for it in range(Lt-1):\n",
    "    I_ou[it+1] = I_ou[it] + (dt / tau_ou) * (mu - I_ou[it]) + np.sqrt(2 * dt / tau_ou) * sig * noise[it + 1]\n",
    "\n",
    "  return I_ou\n",
    "\n"
   ]
  },
  {
   "cell_type": "code",
   "execution_count": 67,
   "metadata": {},
   "outputs": [
    {
     "name": "stderr",
     "output_type": "stream",
     "text": [
      "<ipython-input-67-a502faf7a5fb>:2: NumbaDeprecationWarning: \u001b[1mThe keyword argument 'nopython=False' was supplied. From Numba 0.59.0 the default is being changed to True and use of 'nopython=False' will raise a warning as the argument will have no effect. See https://numba.readthedocs.io/en/stable/reference/deprecation.html#deprecation-of-object-mode-fall-back-behaviour-when-using-jit for details.\u001b[0m\n",
      "  numba.jit(nopython=False)\n"
     ]
    }
   ],
   "source": [
    "# Definition of LIF\n",
    "numba.jit(nopython=False)\n",
    "def run_LIF(pars,Iinj, stop=False):\n",
    "    \"\"\"\n",
    "    Function to simulate the Leaky Integrate-and-Fire (LIF) neuron model.\n",
    "\n",
    "    Args:\n",
    "        pars: Parameter dictionary\n",
    "        Iinj: Input current\n",
    "\n",
    "    Returns:\n",
    "        v: Membrane potential\n",
    "        spikes: Spike times\n",
    "        I: Input current (same as input)\n",
    "    \"\"\"\n",
    "    \n",
    "    V_th, V_reset = pars['V_th'], pars['V_reset']\n",
    "    tau_m, g_L = pars['tau_m'], pars['g_L']\n",
    "    V_init, E_L = pars['V_init'], pars['E_L']\n",
    "    dt, range_t = pars['dt'], pars['range_t']\n",
    "    T = pars['T']\n",
    "    seed = pars['seed']\n",
    "    Lt = range_t.size\n",
    "    tref = pars['tref']\n",
    "    v = np.zeros(Lt)\n",
    "    v[0] = V_init\n",
    "    rec_spikes = []\n",
    "    tr = 0.\n",
    "\n",
    "    for it in range(Lt - 1):\n",
    "        if tr > 0:\n",
    "            v[it] = V_reset\n",
    "            tr = tr - 1\n",
    "\n",
    "        elif v[it] >= V_th:\n",
    "            rec_spikes.append(it)\n",
    "            v[it] = V_reset\n",
    "            tr = tref / dt\n",
    "\n",
    "        dv = (-(v[it] - E_L) + Iinj[it] / g_L) * (dt / tau_m)\n",
    "        v[it + 1] = v[it] + dv\n",
    "        rec_spikes_ = np.array(rec_spikes) * dt\n",
    "\n",
    "    return v, rec_spikes_, Iinj\n"
   ]
  },
  {
   "cell_type": "code",
   "execution_count": 232,
   "metadata": {},
   "outputs": [
    {
     "name": "stderr",
     "output_type": "stream",
     "text": [
      "<ipython-input-232-f2e723f69422>:2: NumbaDeprecationWarning: \u001b[1mThe keyword argument 'nopython=False' was supplied. From Numba 0.59.0 the default is being changed to True and use of 'nopython=False' will raise a warning as the argument will have no effect. See https://numba.readthedocs.io/en/stable/reference/deprecation.html#deprecation-of-object-mode-fall-back-behaviour-when-using-jit for details.\u001b[0m\n",
      "  numba.jit(nopython=False)\n"
     ]
    }
   ],
   "source": [
    "# Definition of Autocorrelation\n",
    "numba.jit(nopython=False)\n",
    "\n",
    "def auto_corr(plot_taus,sigma,t_s):\n",
    "\n",
    "    \"\"\"\n",
    "    Function to calculate autocorrelation.\n",
    "\n",
    "    Args:\n",
    "        plot_taus: Time lags for autocorrelation\n",
    "        sigma: Width of the Gaussian kernel\n",
    "        t_s: Spike times data for multiple trials\n",
    "\n",
    "    Returns:\n",
    "        auto_corr: Autocorrelation values\n",
    "    \"\"\"\n",
    "    Ntr = np.shape(t_s)[0]\n",
    "    print(Ntr)\n",
    "    # auto_corr = np.zeros((len(plot_taus),1))\n",
    "    auto_corr = []\n",
    "    for k in range(Ntr):\n",
    "        auto_corr_temp = []\n",
    "        ST1= t_s[k]\n",
    "        N = len(ST1)\n",
    "\n",
    "        s1 = np.repeat(np.expand_dims(ST1.T,axis=0).T,N,axis=1)\n",
    "        s2 = np.repeat(np.expand_dims(ST1,axis=1).T,N,axis=0)\n",
    "        for i in range(len(plot_taus)):\n",
    "            tau = plot_taus[i]\n",
    "            cons_a = np.exp(-((s1-s2+tau)**2)/(2*(sigma**2)))\n",
    "            cons_b = np.exp(-(tau)**2/(2*(sigma**2)))\n",
    "            auto_corr_temp.append((np.sum(cons_a)-N*cons_b)/(np.sqrt(2*np.pi)*sigma))\n",
    "        auto_corr.append(auto_corr_temp)\n",
    "    auto_corr=np.mean(auto_corr,axis=0)\n",
    "    return np.expand_dims(auto_corr,axis=1)"
   ]
  },
  {
   "cell_type": "code",
   "execution_count": 385,
   "metadata": {},
   "outputs": [],
   "source": [
    "# Definition of cross-correlation\n",
    "numba.jit(nopython=True)\n",
    "\n",
    "def cross_corr(plot_taus,sigma,t_s):\n",
    "    \n",
    "    Ntr =np.shape(t_s)[1]\n",
    "    cross_corr = np.zeros((len(plot_taus),1))\n",
    "    t_s1 = t_s[0]\n",
    "    t_s2 = t_s[0][1:]\n",
    "    for k in range(Ntr-1):\n",
    "        ST1 = t_s1[k]\n",
    "        ST2 = t_s2[k]\n",
    "        l1 = len(ST1)\n",
    "        l2 = len(ST2)\n",
    "        sig1 = np.expand_dims(ST1,axis=0)\n",
    "        sig2 = np.expand_dims(ST2,axis=0)\n",
    "        s1 = np.repeat(sig1.T,l2,axis=1)\n",
    "        s2 = np.repeat(sig2,l1,axis=0)\n",
    "\n",
    "        for i in range(len(plot_taus)):\n",
    "            tau = plot_taus[i]\n",
    "            cons = np.exp(-(s1-s2+tau)**2/(2*sigma**2))\n",
    "            cross_corr[i] +=np.sum(cons)/(np.sqrt(2*np.pi)*sigma)\n",
    "\n",
    "        print(np.shape(cross_corr))\n",
    "    cross_corr=cross_corr/(Ntr-1)\n",
    "    return cross_corr\n",
    "\n",
    "\n"
   ]
  },
  {
   "cell_type": "code",
   "execution_count": 344,
   "metadata": {},
   "outputs": [],
   "source": [
    "Vth_values = [0.0, 0.03, 0.035]  \n",
    "spikes_thrs_u = []\n",
    "spikes_thrs_r = []\n",
    "default_pars['V_th'] = Vth_values[0]\n",
    "# default_pars['dt'] = 0.1\n",
    "spikes_t_s_r = []\n",
    "spikes_t_s_u = []\n",
    "N_stim=10\n",
    "for i in range(N_stim):\n",
    "    SNR = 0.8\n",
    "    st = my_OU(default_pars, 0,0.1, myseed=i)\n",
    "    nt = my_OU(default_pars, 0,0.1, )\n",
    "    Iinj = SNR * st + np.sqrt(1 - SNR) * nt\n",
    "    default_pars['seed'] = 1\n",
    "    v, spikes, I = run_LIF(default_pars,Iinj)\n",
    "    spikes_t_s_u.append(spikes)\n",
    "    st = my_OU(default_pars, 0,0.1, myseed=True)\n",
    "    # nt = my_OU(default_pars, 0,0.1, )\n",
    "    Iinj = SNR * st + np.sqrt(1 - SNR) * nt\n",
    "    default_pars['seed'] = 1\n",
    "    v, spikes, I = run_LIF(default_pars,Iinj)\n",
    "    spikes_t_s_r.append(spikes)\n",
    "spikes_thrs_u.append(spikes_t_s_u)\n",
    "spikes_thrs_r.append(spikes_t_s_r)\n"
   ]
  },
  {
   "cell_type": "code",
   "execution_count": 347,
   "metadata": {},
   "outputs": [
    {
     "data": {
      "text/plain": [
       "1071.0"
      ]
     },
     "execution_count": 347,
     "metadata": {},
     "output_type": "execute_result"
    }
   ],
   "source": [
    "spike_times = np.int32(spikes/default_pars['dt'])\n",
    "\n",
    "b_spikes = np.zeros_like(v)*np.nan\n",
    "b_spikes[spike_times] =1\n"
   ]
  },
  {
   "cell_type": "code",
   "execution_count": 416,
   "metadata": {},
   "outputs": [
    {
     "data": {
      "text/plain": [
       "(1085,)"
      ]
     },
     "execution_count": 416,
     "metadata": {},
     "output_type": "execute_result"
    }
   ],
   "source": [
    "np.shape(spikes_thrs_r[0][1])"
   ]
  },
  {
   "cell_type": "code",
   "execution_count": 417,
   "metadata": {},
   "outputs": [
    {
     "data": {
      "image/png": "[encoded data removed]",
      "text/plain": [
       "<Figure size 1008x432 with 1 Axes>"
      ]
     },
     "metadata": {
      "needs_background": "light"
     },
     "output_type": "display_data"
    },
    {
     "data": {
      "image/png": "[encoded data removed]",
      "text/plain": [
       "<Figure size 1008x432 with 1 Axes>"
      ]
     },
     "metadata": {
      "needs_background": "light"
     },
     "output_type": "display_data"
    }
   ],
   "source": [
    "spikes_t = spikes_thrs_r\n",
    "# print(np.shape(spikes_t[i][0][0]))\n",
    "fig,ax = plt.subplots(figsize= [14,6])\n",
    "for i in range(10):\n",
    "    b_spikes = np.zeros((np.int32(10000/0.1)))*np.nan\n",
    "    s_times = np.int32(spikes_t[0][i]/0.1)\n",
    "    b_spikes[s_times]=1\n",
    "    plt.scatter(np.arange(np.int32(10000/0.1)),b_spikes*i,marker='|')\n",
    "plt.show()\n",
    "\n",
    "spikes_t = spikes_thrs_u\n",
    "# print(np.shape(spikes_t[i][0][0]))\n",
    "fig,ax = plt.subplots(figsize= [14,6])\n",
    "for i in range(10):\n",
    "    b_spikes = np.zeros((np.int32(10000/0.1)))*np.nan\n",
    "    s_times = np.int32(spikes_t[0][i]/0.1)\n",
    "    b_spikes[s_times]=1\n",
    "    plt.scatter(np.arange(np.int32(10000/0.1)),b_spikes*i,marker='|')\n",
    "plt.show()"
   ]
  },
  {
   "cell_type": "code",
   "execution_count": 309,
   "metadata": {},
   "outputs": [
    {
     "name": "stderr",
     "output_type": "stream",
     "text": [
      "<ipython-input-309-0b0d740ab104>:1: VisibleDeprecationWarning: Creating an ndarray from ragged nested sequences (which is a list-or-tuple of lists-or-tuples-or ndarrays with different lengths or shapes) is deprecated. If you meant to do this, you must specify 'dtype=object' when creating the ndarray.\n",
      "  temp = np.expand_dims(np.array(spikes_t_s_r),axis=1).T\n"
     ]
    },
    {
     "data": {
      "text/plain": [
       "(9,)"
      ]
     },
     "execution_count": 309,
     "metadata": {},
     "output_type": "execute_result"
    }
   ],
   "source": [
    "temp = np.expand_dims(np.array(spikes_t_s_r),axis=1).T\n",
    "\n",
    "t_s1 = temp[0]\n",
    "t_s2 = temp[0][1:]\n",
    "np.shape(t_s2)"
   ]
  },
  {
   "cell_type": "code",
   "execution_count": 348,
   "metadata": {},
   "outputs": [
    {
     "name": "stderr",
     "output_type": "stream",
     "text": [
      "<ipython-input-348-7195974402de>:9: VisibleDeprecationWarning: Creating an ndarray from ragged nested sequences (which is a list-or-tuple of lists-or-tuples-or ndarrays with different lengths or shapes) is deprecated. If you meant to do this, you must specify 'dtype=object' when creating the ndarray.\n",
      "  autocor_num_u = auto_corr(num_taus,sigma,np.array(spikes_t_s_u))  # what is sigma?\n"
     ]
    },
    {
     "name": "stdout",
     "output_type": "stream",
     "text": [
      "10\n",
      "(1057,)\n",
      "(1065,)\n",
      "(1027,)\n",
      "(1065,)\n",
      "(1025,)\n",
      "(1067,)\n",
      "(969,)\n",
      "(1007,)\n",
      "(1046,)\n",
      "(1013,)\n"
     ]
    },
    {
     "name": "stderr",
     "output_type": "stream",
     "text": [
      "<ipython-input-348-7195974402de>:10: VisibleDeprecationWarning: Creating an ndarray from ragged nested sequences (which is a list-or-tuple of lists-or-tuples-or ndarrays with different lengths or shapes) is deprecated. If you meant to do this, you must specify 'dtype=object' when creating the ndarray.\n",
      "  crosscorr_num_r  = cross_corr(num_taus, sigma, np.expand_dims(np.array(spikes_t_s_r),axis=1).T)\n"
     ]
    },
    {
     "name": "stdout",
     "output_type": "stream",
     "text": [
      "(2001, 1)\n",
      "(2001, 1)\n",
      "(2001, 1)\n",
      "(2001, 1)\n",
      "(2001, 1)\n",
      "(2001, 1)\n",
      "(2001, 1)\n",
      "(2001, 1)\n",
      "(2001, 1)\n"
     ]
    }
   ],
   "source": [
    "num_tau_min = -100  #% (ms)\n",
    "num_tau_max =  100  #% (ms)\n",
    "num_dtau    =  0.1  #% (ms)\n",
    "                  \n",
    "num_taus         = np.arange(num_tau_min,\n",
    "                     num_tau_max+num_dtau,\n",
    "                     num_dtau)\n",
    "\n",
    "sigma            = 0.01\n",
    "autocor_num_u    = auto_corr(num_taus, sigma, np.array(spikes_t_s_u))  # what is sigma?\n",
    "crosscorr_num_r  = cross_corr(num_taus, sigma, np.expand_dims(np.array(spikes_t_s_r),axis=1).T)"
   ]
  },
  {
   "cell_type": "code",
   "execution_count": 333,
   "metadata": {},
   "outputs": [
    {
     "data": {
      "text/plain": [
       "(2001, 1)"
      ]
     },
     "execution_count": 333,
     "metadata": {},
     "output_type": "execute_result"
    }
   ],
   "source": [
    "np.shape(np.array(autocor_num_u))"
   ]
  },
  {
   "cell_type": "code",
   "execution_count": 350,
   "metadata": {},
   "outputs": [
    {
     "data": {
      "text/plain": [
       "[<matplotlib.lines.Line2D at 0x2dba6ab1790>]"
      ]
     },
     "execution_count": 350,
     "metadata": {},
     "output_type": "execute_result"
    },
    {
     "data": {
      "image/png": "[encoded data removed]",
      "text/plain": [
       "<Figure size 432x288 with 1 Axes>"
      ]
     },
     "metadata": {
      "needs_background": "light"
     },
     "output_type": "display_data"
    }
   ],
   "source": [
    "\n",
    "plt.plot(autocor_num_u)"
   ]
  },
  {
   "cell_type": "code",
   "execution_count": 391,
   "metadata": {},
   "outputs": [],
   "source": [
    "from scipy.fft import fft, fftfreq,rfft\n",
    "\n",
    "\n",
    "def My_DFT_custom_freqs(t,x,freqs):\n",
    "    # %MY_DFT Gives the discrete fouriertransform for an input of a time vector t\n",
    "    # % and the function x that will be fouriertransformed. \n",
    "    # %   Also we could introduce a custom freqs vector in the future to\n",
    "    # %   customize the frequency resolution.\n",
    "    print(x.shape)\n",
    "    f_coefs = np.zeros((1,len(freqs)))\n",
    "    \n",
    "    \n",
    "    T_seq = np.max(t) - np.min(t)\n",
    "    for k in range(f_coefs.shape[1]):\n",
    "        # print(np.exp(-1j*2*np.pi*freqs[k]*t[:-1]))\n",
    "        f_coefs[0,k] = np.real(np.mean(x[0,:-1]*(np.exp(-1j*2*np.pi*freqs[k]*t[:-1]))))\n",
    "        # print((np.exp(-1j*2*np.pi*freqs[k]*t[:-1])))\n",
    "    \n",
    "    return f_coefs"
   ]
  },
  {
   "cell_type": "code",
   "execution_count": 392,
   "metadata": {},
   "outputs": [
    {
     "name": "stdout",
     "output_type": "stream",
     "text": [
      "(1, 2001)\n",
      "(1, 2001)\n"
     ]
    },
    {
     "name": "stderr",
     "output_type": "stream",
     "text": [
      "<ipython-input-392-70ad5c27ad0f>:27: RuntimeWarning: invalid value encountered in log2\n",
      "  Info_pn_cor2  = -1/2*np.log2(1-(cross_four_r/(auto_four_u+Off_Fac_num_u))) # % Hier repeaats\n"
     ]
    }
   ],
   "source": [
    "freq_max = 500 # Max frequency to evaluate (Hz)\n",
    "delta_f = 1\n",
    "# % Assigning vectors\n",
    "freqs = np.arange(0,freq_max+delta_f, delta_f) #;\n",
    "Nf = len(freqs) #; % number of frequencies\n",
    "num_delta_f = 1/(num_tau_max-num_tau_min)*1000\n",
    "num_freqs   = np.arange(0,(1/num_dtau*1000/2)+num_delta_f, num_delta_f)/1000\n",
    "steps = 10000\n",
    "dt = 0.1\n",
    "T_seq_korrigiert = steps*dt\n",
    "N = 1\n",
    "Ntr = 10\n",
    "FiR_u = np.zeros((1,Ntr))\n",
    "FiR_r = np.zeros((1,Ntr))\n",
    "for j  in range(Ntr):\n",
    "   FiR_u[0,j] = len(spikes_t_s_u[j])/T_seq_korrigiert\n",
    "   FiR_r[0,j] = len(spikes_t_s_r[j])/T_seq_korrigiert\n",
    "FiR_u_mean = np.mean(FiR_u)\n",
    "FiR_r_mean = np.mean(FiR_r)\n",
    "# % Fouriertranformations\n",
    "Off_Fac_num_u = 1/(num_tau_max-num_tau_min)*FiR_u_mean*T_seq_korrigiert\n",
    "# %  Numeric functions\n",
    "auto_four_u_temp   = np.real(My_DFT_custom_freqs(num_taus, autocor_num_u.T, num_freqs))\n",
    "auto_four_u  = np.real(auto_four_u_temp)\n",
    "cross_four_r_temp  = np.real(My_DFT_custom_freqs(num_taus, crosscorr_num_r.T, num_freqs))\n",
    "cross_four_r = np.real(cross_four_r_temp)\n",
    "Info_pn_cor2  = -1/2*np.log2(1-(cross_four_r/(auto_four_u+Off_Fac_num_u))) # % Hier repeaats"
   ]
  },
  {
   "cell_type": "code",
   "execution_count": 409,
   "metadata": {},
   "outputs": [
    {
     "data": {
      "text/plain": [
       "array([[501.51920608,  24.94664783,  19.2368999 , ...,  -0.69577661,\n",
       "          1.07485041,   0.93529801]])"
      ]
     },
     "execution_count": 409,
     "metadata": {},
     "output_type": "execute_result"
    }
   ],
   "source": [
    "cross_four_r"
   ]
  },
  {
   "cell_type": "code",
   "execution_count": 407,
   "metadata": {},
   "outputs": [
    {
     "data": {
      "text/plain": [
       "[<matplotlib.lines.Line2D at 0x2db9f349a00>]"
      ]
     },
     "execution_count": 407,
     "metadata": {},
     "output_type": "execute_result"
    },
    {
     "data": {
      "image/png": "[encoded data removed]",
      "text/plain": [
       "<Figure size 432x288 with 1 Axes>"
      ]
     },
     "metadata": {
      "needs_background": "light"
     },
     "output_type": "display_data"
    }
   ],
   "source": [
    "# plt.plot(cross_four_r.T)\n",
    "plt.plot((1-cross_four_r/(auto_four_u+Off_Fac_num_u)).T)\n",
    "# plt.plot(Info_pn_cor2.T)"
   ]
  },
  {
   "cell_type": "code",
   "execution_count": 364,
   "metadata": {},
   "outputs": [],
   "source": [
    "# # Definition of Information content\n",
    "# def return_info(spikes_t_s_u,spikes_t_s_r,autocor_num_u,crosscorr_num_r):\n",
    "\n",
    "#     \"\"\"\n",
    "#     Function to compute the mutual information between spike trains.\n",
    "\n",
    "#     Args:\n",
    "#         spikes_t_s_u: Spike times for stimulus condition\n",
    "#         spikes_t_s_r: Spike times for response condition\n",
    "\n",
    "#     Returns:\n",
    "#         Info_pn_cor2: Mutual information values\n",
    "    \n",
    "#     \"\"\"\n",
    "#     freq_max = 500 # Max frequency to evaluate (Hz)\n",
    "#     delta_f = 1 \n",
    "\n",
    "#    # Assigning vectors\n",
    "#     freqs = np.arange(0,freq_max+delta_f, delta_f) #;\n",
    "\n",
    "#    #number of frequencies\n",
    "#     Nf = len(freqs)\n",
    "    \n",
    "#     num_delta_f = 1/(num_tau_max-num_tau_min)*1000\n",
    "#     num_freqs   = np.arange(0,(1/num_dtau*1000/2)+num_delta_f, num_delta_f)/1000\n",
    "#     steps = 10000\n",
    "#     dt = 0.1\n",
    "#     T_seq_korrigiert = steps*dt\n",
    "#     N = 1\n",
    "#     Ntr = 3\n",
    "#     FiR_u = np.zeros((1,Ntr))\n",
    "#     FiR_r = np.zeros((1,Ntr))\n",
    "\n",
    "\n",
    "#     for j  in range(Ntr):\n",
    "#       FiR_u[0,j] = len(spikes_t_s_u.T[j])/T_seq_korrigiert\n",
    "#       FiR_r[0,j] = len(spikes_t_s_r.T[j])/T_seq_korrigiert\n",
    "\n",
    "#     FiR_u_mean = np.mean(FiR_u)\n",
    "#     FiR_r_mean = np.mean(FiR_r)\n",
    "#    # % Fouriertranformations\n",
    "\n",
    "#     Off_Fac_num_u = 1/(num_tau_max-num_tau_min)*FiR_u_mean*T_seq_korrigiert\n",
    "\n",
    "#     # %  Numeric functions\n",
    "#     auto_four_u_temp   = np.real(My_DFT_custom_freqs(num_taus, autocor_num_u.T, num_freqs))\n",
    "#     auto_four_u  = np.real(auto_four_u_temp)\n",
    "\n",
    "#     cross_four_r_temp  = np.real(My_DFT_custom_freqs(num_taus, crosscorr_num_r.T, num_freqs))\n",
    "#     cross_four_r = np.real(cross_four_r_temp)\n",
    "\n",
    "#     Info_pn_cor2  = -1/2*np.log2(1-(cross_four_r/(auto_four_u+Off_Fac_num_u))) \n",
    "\n",
    "\n",
    "#     Total_info_rate = np.sum(Info_pn_cor2)\n",
    "    \n",
    "#     return Info_pn_cor2\n"
   ]
  },
  {
   "cell_type": "code",
   "execution_count": 365,
   "metadata": {},
   "outputs": [
    {
     "name": "stdout",
     "output_type": "stream",
     "text": [
      "(1, 2001)\n",
      "(1, 2001)\n"
     ]
    },
    {
     "name": "stderr",
     "output_type": "stream",
     "text": [
      "<ipython-input-134-5e9271b751c2>:52: RuntimeWarning: invalid value encountered in log2\n",
      "  Info_pn_cor2  = -1/2*np.log2(1-(cross_four_r/(auto_four_u+Off_Fac_num_u)))\n"
     ]
    }
   ],
   "source": [
    "info =  return_info(np.array(test_spike_t_s_u)[:3].T, np.array(test_spike_t_s_r)[:3].T, np.array(autocor_num_u),np.array(crosscorr_num_r))"
   ]
  },
  {
   "cell_type": "code",
   "execution_count": 366,
   "metadata": {},
   "outputs": [],
   "source": [
    "def calculate_mutual_information(Vth_values, other_parameters):\n",
    "    \"\"\"\n",
    "    Function to calculate mutual information for varying threshold values.\n",
    "\n",
    "    Args:\n",
    "        Vth_values: List of threshold values to vary\n",
    "        other_parameters: Dictionary of other parameters for simulation\n",
    "\n",
    "    Returns:\n",
    "        mutual_info_results: List of mutual information values for each Vth value\n",
    "    \"\"\"\n",
    "    mutual_info_results = []\n",
    "    Vth_values = [0.025, 0.03, 0.035]  \n",
    "    spikes_thrs_u = []\n",
    "    spikes_thrs_r = []\n",
    "    for Vth in Vth_values:\n",
    "        default_pars['V_th'] = Vth\n",
    "        spikes_t_s_r = []\n",
    "        spikes_t_s_u = []\n",
    "        for i in range(N_stim):\n",
    "            SNR = 0.6\n",
    "            st = my_OU(default_pars, 0,0.1, myseed=i)\n",
    "            nt = my_OU(default_pars, 0,0.1, )\n",
    "            Iinj = SNR * st + np.sqrt(1 - SNR) * nt\n",
    "            default_pars['seed'] = 1\n",
    "            v, spikes, I = run_LIF(default_pars,Iinj)\n",
    "            spikes_t_s_u.append(spikes)\n",
    "\n",
    "\n",
    "            st = my_OU(default_pars, 0,0.1, myseed=0)\n",
    "            nt = my_OU(default_pars, 0,0.1, )\n",
    "            Iinj = SNR * st + np.sqrt(1 - SNR) * nt\n",
    "            default_pars['seed'] = 1\n",
    "            v, spikes, I = run_LIF(default_pars,Iinj)\n",
    "            spikes_t_s_r.append(spikes)\n",
    "        spikes_thrs_u.append(spikes_t_s_u)\n",
    "        spikes_thrs_r.append(spikes_t_s_r)\n",
    "    info = return_info(spikes_t_s_u, spikes_t_s_r)\n",
    "    Info_pn_cor2  = -1/2*np.log2(1-(cross_four_r/(auto_four_u+Off_Fac_num_u))) \n",
    "    Info_pn_cor2.append(info)\n",
    "    Total_info_rate = np.sum(Info_pn_cor2)\n",
    "    return Info_pn_cor2\n",
    "\n",
    "# # Plotting information content vs Vth\n",
    "# plt.plot(Vth_values, info_content)\n",
    "# plt.xlabel('Vth values')\n",
    "# plt.ylabel('Information Content')\n",
    "# plt.title('Effect of Vth on Information Content')\n",
    "# plt.show()\n",
    "# # fig, ax = plt.subplots(figsize=[8, 4])\n",
    "# # ax.legend()\n",
    "# # ax.set_xlabel('Time (ms)')\n",
    "# # ax.set_ylabel('Membrane Potential')\n",
    "# # plt.show()\n",
    "\n"
   ]
  },
  {
   "cell_type": "code",
   "execution_count": 367,
   "metadata": {},
   "outputs": [],
   "source": [
    "#Plot for spike crosscorrelation\n",
    "# plt.plot(num_taus,crosscorr_num_r)"
   ]
  },
  {
   "cell_type": "code",
   "execution_count": 368,
   "metadata": {},
   "outputs": [],
   "source": [
    "# Plot for the spike autocorrelation\n",
    "# plt.plot(num_taus,autocor_num_u)"
   ]
  },
  {
   "cell_type": "code",
   "execution_count": 369,
   "metadata": {},
   "outputs": [],
   "source": [
    "# list_of_infos = []\n",
    "# for each_thr in thrs:\n",
    "#     spikes_u\n",
    "#     spikes_r\n",
    "\n",
    "#     autcorr(spikes_u)\n",
    "#     corss_corr(spiokes_r)\n",
    "#     list_of_infos.append(info_metric(auto,corss))"
   ]
  },
  {
   "cell_type": "code",
   "execution_count": 370,
   "metadata": {},
   "outputs": [
    {
     "name": "stdout",
     "output_type": "stream",
     "text": [
      "Information Rate per frequency (Info_pn_cor2):\n",
      "[[nan nan nan ... nan nan nan]]\n",
      "Total Information Rate (Total_info_rate):\n"
     ]
    },
    {
     "ename": "NameError",
     "evalue": "name 'Total_info_rate' is not defined",
     "output_type": "error",
     "traceback": [
      "\u001b[1;31m---------------------------------------------------------------------------\u001b[0m",
      "\u001b[1;31mNameError\u001b[0m                                 Traceback (most recent call last)",
      "\u001b[1;32m<ipython-input-370-5709045b4fe5>\u001b[0m in \u001b[0;36m<module>\u001b[1;34m\u001b[0m\n\u001b[0;32m      3\u001b[0m \u001b[1;33m\u001b[0m\u001b[0m\n\u001b[0;32m      4\u001b[0m \u001b[0mprint\u001b[0m\u001b[1;33m(\u001b[0m\u001b[1;34m\"Total Information Rate (Total_info_rate):\"\u001b[0m\u001b[1;33m)\u001b[0m\u001b[1;33m\u001b[0m\u001b[1;33m\u001b[0m\u001b[0m\n\u001b[1;32m----> 5\u001b[1;33m \u001b[0mprint\u001b[0m\u001b[1;33m(\u001b[0m\u001b[0mTotal_info_rate\u001b[0m\u001b[1;33m)\u001b[0m\u001b[1;33m\u001b[0m\u001b[1;33m\u001b[0m\u001b[0m\n\u001b[0m\u001b[0;32m      6\u001b[0m \u001b[1;33m\u001b[0m\u001b[0m\n\u001b[0;32m      7\u001b[0m \u001b[0mplt\u001b[0m\u001b[1;33m.\u001b[0m\u001b[0mplot\u001b[0m\u001b[1;33m(\u001b[0m\u001b[0mnum_freqs\u001b[0m\u001b[1;33m*\u001b[0m\u001b[1;36m100\u001b[0m\u001b[1;33m,\u001b[0m\u001b[0mInfo_pn_cor2\u001b[0m\u001b[1;33m[\u001b[0m\u001b[1;36m0\u001b[0m\u001b[1;33m]\u001b[0m\u001b[1;33m)\u001b[0m\u001b[1;33m\u001b[0m\u001b[1;33m\u001b[0m\u001b[0m\n",
      "\u001b[1;31mNameError\u001b[0m: name 'Total_info_rate' is not defined"
     ]
    }
   ],
   "source": [
    "print(\"Information Rate per frequency (Info_pn_cor2):\")\n",
    "print(Info_pn_cor2)\n",
    "\n",
    "print(\"Total Information Rate (Total_info_rate):\")\n",
    "print(Total_info_rate)\n",
    "\n",
    "plt.plot(num_freqs*100,Info_pn_cor2[0])\n",
    "plt.xlabel(\"Frequenzy (Hz)\")\n",
    "plt.ylabel(\"Information rate (bits/(Hz*s))\")\n",
    "plt.title(\"Neural Information Content\")\n",
    "plt.text(250, 1.5, f'Total Info Rate: {Total_info_rate:.2f} bits/sec', color='r')"
   ]
  }
 ],
 "metadata": {
  "kernelspec": {
   "display_name": "base",
   "language": "python",
   "name": "python3"
  },
  "language_info": {
   "codemirror_mode": {
    "name": "ipython",
    "version": 3
   },
   "file_extension": ".py",
   "mimetype": "text/x-python",
   "name": "python",
   "nbconvert_exporter": "python",
   "pygments_lexer": "ipython3",
   "version": "3.8.8"
  }
 },
 "nbformat": 4,
 "nbformat_minor": 2
}
